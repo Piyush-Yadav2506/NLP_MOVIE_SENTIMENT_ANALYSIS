{
 "cells": [
  {
   "cell_type": "markdown",
   "id": "58cf42f8",
   "metadata": {},
   "source": [
    "## Prediction test file for IMDB review"
   ]
  },
  {
   "cell_type": "code",
   "execution_count": 1,
   "id": "dee5b48a",
   "metadata": {},
   "outputs": [],
   "source": [
    "# import libraries\n",
    "\n",
    "import numpy as np\n",
    "import tensorflow as tf\n",
    "from tensorflow.keras.datasets import imdb\n",
    "from tensorflow.keras.models import load_model"
   ]
  },
  {
   "cell_type": "code",
   "execution_count": 2,
   "id": "6c5d2df8",
   "metadata": {},
   "outputs": [
    {
     "name": "stdout",
     "output_type": "stream",
     "text": [
      "WARNING:tensorflow:From d:\\DATA_SCIENCE_A.I\\Data Science\\Projects\\IMDB Review Senti\\venv\\lib\\site-packages\\keras\\src\\backend.py:1398: The name tf.executing_eagerly_outside_functions is deprecated. Please use tf.compat.v1.executing_eagerly_outside_functions instead.\n",
      "\n"
     ]
    }
   ],
   "source": [
    "# Step 2: Load pre-trained model\n",
    "\n",
    "model = load_model('imdb_simplernn_model.h5')"
   ]
  },
  {
   "cell_type": "code",
   "execution_count": null,
   "id": "8b63a218",
   "metadata": {},
   "outputs": [],
   "source": [
    "# Load the imdb word-index mapping\n",
    "word_index = imdb.get_word_index()\n",
    "reverse_word_index = {value: key for key, value in word_index.items()}"
   ]
  },
  {
   "cell_type": "code",
   "execution_count": 4,
   "id": "cbb4d780",
   "metadata": {},
   "outputs": [],
   "source": [
    "# Step 3: Prepare the user input text for prediction\n",
    "from tensorflow.keras.preprocessing.sequence import pad_sequences\n",
    "def preprocess_text(text):\n",
    "    # Tokenize and convert to sequence of integers\n",
    "    tokens = text.lower().split()\n",
    "    encoded_review = [word_index.get(word, 2) + 3 for word in tokens] # 2 is for unknown words, offset by 3\n",
    "    padded_review = pad_sequences([encoded_review], maxlen=500) \n",
    "    return padded_review\n"
   ]
  },
  {
   "cell_type": "code",
   "execution_count": 5,
   "id": "632907f7",
   "metadata": {},
   "outputs": [],
   "source": [
    "# Step 4: Make Prediction on input text\n",
    "\n",
    "def predict_sentiment(text):\n",
    "    processed_text = preprocess_text(text)\n",
    "    prediction = model.predict(processed_text)\n",
    "\n",
    "    sentiment = \"Positive\" if prediction[0][0]>0.5 else \"Negative\"\n",
    "    return sentiment, prediction[0][0]"
   ]
  },
  {
   "cell_type": "code",
   "execution_count": 20,
   "id": "e7936639",
   "metadata": {},
   "outputs": [
    {
     "name": "stdout",
     "output_type": "stream",
     "text": [
      "1/1 [==============================] - 0s 159ms/step\n",
      "User Review: good movie\n",
      "Sentiment: Positive\n",
      " Confidence Score: 0.5901384353637695\n"
     ]
    }
   ],
   "source": [
    "# Prediction on sample text\n",
    "\n",
    "sample_text = \"good movie\"\n",
    "\n",
    "sentiment, confidence = predict_sentiment(sample_text)\n",
    "\n",
    "print(f'User Review: {sample_text}')\n",
    "print(f'Sentiment: {sentiment}\\n Confidence Score: {confidence}')\n"
   ]
  },
  {
   "cell_type": "code",
   "execution_count": null,
   "id": "5394b7a2",
   "metadata": {},
   "outputs": [],
   "source": []
  }
 ],
 "metadata": {
  "kernelspec": {
   "display_name": "venv",
   "language": "python",
   "name": "python3"
  },
  "language_info": {
   "codemirror_mode": {
    "name": "ipython",
    "version": 3
   },
   "file_extension": ".py",
   "mimetype": "text/x-python",
   "name": "python",
   "nbconvert_exporter": "python",
   "pygments_lexer": "ipython3",
   "version": "3.10.0"
  }
 },
 "nbformat": 4,
 "nbformat_minor": 5
}

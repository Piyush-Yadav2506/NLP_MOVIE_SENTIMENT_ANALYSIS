{
 "cells": [
  {
   "cell_type": "code",
   "execution_count": 1,
   "id": "ac82bc4c-e758-4326-89c0-eaf7be6dbcb9",
   "metadata": {},
   "outputs": [],
   "source": [
    "import numpy as np\n",
    "import pandas as pd\n",
    "import warnings\n",
    "warnings.filterwarnings('ignore')"
   ]
  },
  {
   "cell_type": "code",
   "execution_count": 2,
   "id": "a4d8659c-1f43-4a01-ba2b-a18b91ca5500",
   "metadata": {},
   "outputs": [
    {
     "data": {
      "text/html": [
       "<div>\n",
       "<style scoped>\n",
       "    .dataframe tbody tr th:only-of-type {\n",
       "        vertical-align: middle;\n",
       "    }\n",
       "\n",
       "    .dataframe tbody tr th {\n",
       "        vertical-align: top;\n",
       "    }\n",
       "\n",
       "    .dataframe thead th {\n",
       "        text-align: right;\n",
       "    }\n",
       "</style>\n",
       "<table border=\"1\" class=\"dataframe\">\n",
       "  <thead>\n",
       "    <tr style=\"text-align: right;\">\n",
       "      <th></th>\n",
       "      <th>review</th>\n",
       "      <th>sentiment</th>\n",
       "    </tr>\n",
       "  </thead>\n",
       "  <tbody>\n",
       "    <tr>\n",
       "      <th>0</th>\n",
       "      <td>One of the other reviewers has mentioned that ...</td>\n",
       "      <td>positive</td>\n",
       "    </tr>\n",
       "    <tr>\n",
       "      <th>1</th>\n",
       "      <td>A wonderful little production. &lt;br /&gt;&lt;br /&gt;The...</td>\n",
       "      <td>positive</td>\n",
       "    </tr>\n",
       "    <tr>\n",
       "      <th>2</th>\n",
       "      <td>I thought this was a wonderful way to spend ti...</td>\n",
       "      <td>positive</td>\n",
       "    </tr>\n",
       "    <tr>\n",
       "      <th>3</th>\n",
       "      <td>Basically there's a family where a little boy ...</td>\n",
       "      <td>negative</td>\n",
       "    </tr>\n",
       "    <tr>\n",
       "      <th>4</th>\n",
       "      <td>Petter Mattei's \"Love in the Time of Money\" is...</td>\n",
       "      <td>positive</td>\n",
       "    </tr>\n",
       "  </tbody>\n",
       "</table>\n",
       "</div>"
      ],
      "text/plain": [
       "                                              review sentiment\n",
       "0  One of the other reviewers has mentioned that ...  positive\n",
       "1  A wonderful little production. <br /><br />The...  positive\n",
       "2  I thought this was a wonderful way to spend ti...  positive\n",
       "3  Basically there's a family where a little boy ...  negative\n",
       "4  Petter Mattei's \"Love in the Time of Money\" is...  positive"
      ]
     },
     "execution_count": 2,
     "metadata": {},
     "output_type": "execute_result"
    }
   ],
   "source": [
    "df = pd.read_csv('IMDB 50k Dataset.csv')\n",
    "df.head()"
   ]
  },
  {
   "cell_type": "code",
   "execution_count": 3,
   "id": "eb494f5b-ac6b-4a5b-840c-6b8e839d352e",
   "metadata": {},
   "outputs": [
    {
     "data": {
      "text/plain": [
       "(50000, 2)"
      ]
     },
     "execution_count": 3,
     "metadata": {},
     "output_type": "execute_result"
    }
   ],
   "source": [
    "df.shape"
   ]
  },
  {
   "cell_type": "code",
   "execution_count": 4,
   "id": "fa2ee2d9-b2e5-4d9c-9c95-26932495b25c",
   "metadata": {},
   "outputs": [
    {
     "name": "stdout",
     "output_type": "stream",
     "text": [
      "<class 'pandas.core.frame.DataFrame'>\n",
      "RangeIndex: 50000 entries, 0 to 49999\n",
      "Data columns (total 2 columns):\n",
      " #   Column     Non-Null Count  Dtype \n",
      "---  ------     --------------  ----- \n",
      " 0   review     50000 non-null  object\n",
      " 1   sentiment  50000 non-null  object\n",
      "dtypes: object(2)\n",
      "memory usage: 781.4+ KB\n"
     ]
    }
   ],
   "source": [
    "df.info()"
   ]
  },
  {
   "cell_type": "code",
   "execution_count": 5,
   "id": "cad3ec61-1b36-4691-b704-59fa65fca652",
   "metadata": {},
   "outputs": [
    {
     "data": {
      "text/plain": [
       "418"
      ]
     },
     "execution_count": 5,
     "metadata": {},
     "output_type": "execute_result"
    }
   ],
   "source": [
    "df.duplicated().sum()"
   ]
  },
  {
   "cell_type": "code",
   "execution_count": 6,
   "id": "d0992a0e-cf2e-4c11-b219-8e139d5a1cb9",
   "metadata": {},
   "outputs": [],
   "source": [
    "df.drop_duplicates(inplace=True, ignore_index=True)"
   ]
  },
  {
   "cell_type": "code",
   "execution_count": 7,
   "id": "7d12ae10-9523-45c2-bd26-f93fd401954e",
   "metadata": {},
   "outputs": [
    {
     "data": {
      "text/plain": [
       "review       0\n",
       "sentiment    0\n",
       "dtype: int64"
      ]
     },
     "execution_count": 7,
     "metadata": {},
     "output_type": "execute_result"
    }
   ],
   "source": [
    "df.isna().sum()"
   ]
  },
  {
   "cell_type": "code",
   "execution_count": 8,
   "id": "d709b4b8-b7a3-414e-bb31-83f41145fce0",
   "metadata": {},
   "outputs": [
    {
     "data": {
      "text/plain": [
       "sentiment\n",
       "positive    24884\n",
       "negative    24698\n",
       "Name: count, dtype: int64"
      ]
     },
     "execution_count": 8,
     "metadata": {},
     "output_type": "execute_result"
    }
   ],
   "source": [
    "df['sentiment'].value_counts()"
   ]
  },
  {
   "cell_type": "code",
   "execution_count": 9,
   "id": "85936848-01db-4a63-a0fc-5a2c3e87dd0f",
   "metadata": {},
   "outputs": [
    {
     "data": {
      "text/plain": [
       "<Axes: xlabel='sentiment', ylabel='count'>"
      ]
     },
     "execution_count": 9,
     "metadata": {},
     "output_type": "execute_result"
    },
    {
     "data": {
      "image/png": "[encoded data removed]",
      "text/plain": [
       "<Figure size 640x480 with 1 Axes>"
      ]
     },
     "metadata": {},
     "output_type": "display_data"
    }
   ],
   "source": [
    "import seaborn as sns\n",
    "sns.countplot(x='sentiment',data=df,color='yellow')"
   ]
  },
  {
   "cell_type": "markdown",
   "id": "a6af2b06-7b1f-4ec6-ab35-98736b40063a",
   "metadata": {},
   "source": [
    "- Our target column is equally distributed, dataset is **Balanced**."
   ]
  },
  {
   "cell_type": "markdown",
   "id": "16023b52-5775-43e8-8170-3a7e17b736e8",
   "metadata": {},
   "source": [
    "## Text Preprocessing"
   ]
  },
  {
   "cell_type": "code",
   "execution_count": 12,
   "id": "8e7fa3ca-dd91-465f-b3e8-2882f7dfe2b2",
   "metadata": {},
   "outputs": [],
   "source": [
    "## Lowercasing\n",
    "\n",
    "df['review'] = df['review'].str.lower()"
   ]
  },
  {
   "cell_type": "code",
   "execution_count": 13,
   "id": "0fe71d45-cdf7-41c0-a214-24e334c163d4",
   "metadata": {},
   "outputs": [
    {
     "data": {
      "text/plain": [
       "'a wonderful little production. <br /><br />the filming technique is very unassuming- very old-time-bbc fashion and gives a comforting, and sometimes discomforting, sense of realism to the entire piece. <br /><br />the actors are extremely well chosen- michael sheen not only \"has got all the polari\" but he has all the voices down pat too! you can truly see the seamless editing guided by the references to williams\\' diary entries, not only is it well worth the watching but it is a terrificly written and performed piece. a masterful production about one of the great master\\'s of comedy and his life. <br /><br />the realism really comes home with the little things: the fantasy of the guard which, rather than use the traditional \\'dream\\' techniques remains solid then disappears. it plays on our knowledge and our senses, particularly with the scenes concerning orton and halliwell and the sets (particularly of their flat with halliwell\\'s murals decorating every surface) are terribly well done.'"
      ]
     },
     "execution_count": 13,
     "metadata": {},
     "output_type": "execute_result"
    }
   ],
   "source": [
    "df['review'][1]"
   ]
  },
  {
   "cell_type": "code",
   "execution_count": 14,
   "id": "df786319-607e-4d38-93d9-51aed474f297",
   "metadata": {},
   "outputs": [],
   "source": [
    "## HTML Tags\n",
    "# Our data has html tags in text, we don't require them\n",
    "\n",
    "import re\n",
    "def remove_html_tag(text):\n",
    "    pattern = re.compile('<.*?>')\n",
    "    return pattern.sub(r\"\",text)"
   ]
  },
  {
   "cell_type": "code",
   "execution_count": 15,
   "id": "71884e97-0bc1-4044-90da-bf5e335cfe32",
   "metadata": {},
   "outputs": [
    {
     "data": {
      "text/plain": [
       "'production. the filming '"
      ]
     },
     "execution_count": 15,
     "metadata": {},
     "output_type": "execute_result"
    }
   ],
   "source": [
    "remove_html_tag('production. <br /><br />the filming ')"
   ]
  },
  {
   "cell_type": "code",
   "execution_count": 16,
   "id": "3f1ddf4f-0496-478e-8813-b3113b2506e7",
   "metadata": {},
   "outputs": [],
   "source": [
    "df['review'] = df['review'].apply(remove_html_tag)"
   ]
  },
  {
   "cell_type": "markdown",
   "id": "665dbf36-2b5b-46c0-b6ad-147936c46d35",
   "metadata": {},
   "source": [
    "### Contraction\n",
    " - words like can't, it's **expanded** to can not and it is for better interpretation."
   ]
  },
  {
   "cell_type": "code",
   "execution_count": 18,
   "id": "736927a2-6058-440f-bfea-f343bd06cd1f",
   "metadata": {},
   "outputs": [],
   "source": [
    "# pip install contractions"
   ]
  },
  {
   "cell_type": "code",
   "execution_count": 19,
   "id": "ade573ee-9111-4c15-bdb9-bf029fd17546",
   "metadata": {},
   "outputs": [],
   "source": [
    "import contractions"
   ]
  },
  {
   "cell_type": "code",
   "execution_count": 20,
   "id": "7f444864-1db2-40fa-b509-2779292730ac",
   "metadata": {},
   "outputs": [],
   "source": [
    "def expand_short_words(text:str) -> str: #text as input str showing string type & ->str means output as str type\n",
    "    return contractions.fix(text)\n",
    "    "
   ]
  },
  {
   "cell_type": "code",
   "execution_count": 21,
   "id": "3a980a95-7948-449f-aa5f-a227c3cbee36",
   "metadata": {},
   "outputs": [
    {
     "data": {
      "text/plain": [
       "'I am happy do not worry it is fine'"
      ]
     },
     "execution_count": 21,
     "metadata": {},
     "output_type": "execute_result"
    }
   ],
   "source": [
    "expand_short_words(\"I'm happy don't worry it's fine\")"
   ]
  },
  {
   "cell_type": "code",
   "execution_count": 22,
   "id": "ddbcf59c-e4fe-4dd6-8dee-ec5c0fd565a2",
   "metadata": {},
   "outputs": [],
   "source": [
    "df['review'] = df['review'].apply(expand_short_words)"
   ]
  },
  {
   "cell_type": "code",
   "execution_count": 23,
   "id": "4af44b01-dcf3-4f30-81ed-95d7e0882e91",
   "metadata": {},
   "outputs": [],
   "source": [
    "# Remove Punctuations\n",
    "\n",
    "import string\n",
    "exclude = string.punctuation"
   ]
  },
  {
   "cell_type": "code",
   "execution_count": 24,
   "id": "900472a7-0696-4e58-97c0-b9e078836879",
   "metadata": {},
   "outputs": [],
   "source": [
    "def remove_punc(text):\n",
    "    return text.translate(str.maketrans('','',exclude))"
   ]
  },
  {
   "cell_type": "code",
   "execution_count": 25,
   "id": "416c0784-0c86-497e-82f0-a9d354a9439d",
   "metadata": {},
   "outputs": [],
   "source": [
    "df['review'] = df['review'].apply(remove_punc)"
   ]
  },
  {
   "cell_type": "code",
   "execution_count": 26,
   "id": "4e2f15ea-1634-499e-a88f-f771ad10807b",
   "metadata": {},
   "outputs": [
    {
     "name": "stdout",
     "output_type": "stream",
     "text": [
      "Defaulting to user installation because normal site-packages is not writeable\n",
      "Requirement already satisfied: symspellpy in c:\\users\\piyus\\appdata\\roaming\\python\\python312\\site-packages (6.9.0)\n",
      "Requirement already satisfied: editdistpy>=0.1.3 in c:\\users\\piyus\\appdata\\roaming\\python\\python312\\site-packages (from symspellpy) (0.1.6)\n",
      "Note: you may need to restart the kernel to use updated packages.\n"
     ]
    }
   ],
   "source": [
    "pip install symspellpy"
   ]
  },
  {
   "cell_type": "code",
   "execution_count": 27,
   "id": "4877de04-6404-4811-a82d-0332e235f472",
   "metadata": {},
   "outputs": [],
   "source": [
    "# Spelling correction\n",
    "from symspellpy import SymSpell, Verbosity"
   ]
  },
  {
   "cell_type": "code",
   "execution_count": 28,
   "id": "2c8a09d9-859d-4f64-955f-9ddd3ff4949e",
   "metadata": {},
   "outputs": [],
   "source": [
    "# Initialize Object\n",
    "sym_spell = SymSpell(max_dictionary_edit_distance=2, prefix_length=7)\n",
    "\n",
    "# Load Dictionary\n",
    "sym_spell.load_dictionary(\"frequency_dictionary_en_82_765.txt\", term_index=0, count_index=1)\n",
    "\n",
    "def correct_text(text):\n",
    "    words = text.split()\n",
    "    corrected = []\n",
    "    for word in words:\n",
    "        suggestion = sym_spell.lookup(word, Verbosity.CLOSEST, max_edit_distance=2)\n",
    "        if suggestion:\n",
    "            corrected.append(suggestion[0].term)\n",
    "        else:\n",
    "            corrected.append(word)\n",
    "    return \" \".join(corrected)"
   ]
  },
  {
   "cell_type": "code",
   "execution_count": 29,
   "id": "004b2502-999c-49ff-b194-ea7f711cae03",
   "metadata": {},
   "outputs": [],
   "source": [
    "df['review'] = df['review'].apply(correct_text)"
   ]
  },
  {
   "cell_type": "code",
   "execution_count": 30,
   "id": "f96eade3-d332-4692-9064-829c0177d7c7",
   "metadata": {},
   "outputs": [
    {
     "data": {
      "text/html": [
       "<div>\n",
       "<style scoped>\n",
       "    .dataframe tbody tr th:only-of-type {\n",
       "        vertical-align: middle;\n",
       "    }\n",
       "\n",
       "    .dataframe tbody tr th {\n",
       "        vertical-align: top;\n",
       "    }\n",
       "\n",
       "    .dataframe thead th {\n",
       "        text-align: right;\n",
       "    }\n",
       "</style>\n",
       "<table border=\"1\" class=\"dataframe\">\n",
       "  <thead>\n",
       "    <tr style=\"text-align: right;\">\n",
       "      <th></th>\n",
       "      <th>review</th>\n",
       "      <th>sentiment</th>\n",
       "    </tr>\n",
       "  </thead>\n",
       "  <tbody>\n",
       "    <tr>\n",
       "      <th>0</th>\n",
       "      <td>one of they other reviewers has mentioned that...</td>\n",
       "      <td>positive</td>\n",
       "    </tr>\n",
       "    <tr>\n",
       "      <th>1</th>\n",
       "      <td>a wonderful little production they filming tec...</td>\n",
       "      <td>positive</td>\n",
       "    </tr>\n",
       "    <tr>\n",
       "      <th>2</th>\n",
       "      <td>i thought this was a wonderful way to spend ti...</td>\n",
       "      <td>positive</td>\n",
       "    </tr>\n",
       "    <tr>\n",
       "      <th>3</th>\n",
       "      <td>basically there is a family where a little boy...</td>\n",
       "      <td>negative</td>\n",
       "    </tr>\n",
       "    <tr>\n",
       "      <th>4</th>\n",
       "      <td>petter matters love in they time of money is a...</td>\n",
       "      <td>positive</td>\n",
       "    </tr>\n",
       "  </tbody>\n",
       "</table>\n",
       "</div>"
      ],
      "text/plain": [
       "                                              review sentiment\n",
       "0  one of they other reviewers has mentioned that...  positive\n",
       "1  a wonderful little production they filming tec...  positive\n",
       "2  i thought this was a wonderful way to spend ti...  positive\n",
       "3  basically there is a family where a little boy...  negative\n",
       "4  petter matters love in they time of money is a...  positive"
      ]
     },
     "execution_count": 30,
     "metadata": {},
     "output_type": "execute_result"
    }
   ],
   "source": [
    "df.head()"
   ]
  },
  {
   "cell_type": "code",
   "execution_count": 31,
   "id": "2e1b8853-cc46-48d1-9a5c-9966efdf65cc",
   "metadata": {},
   "outputs": [],
   "source": [
    "from nltk.corpus import stopwords\n",
    "eng_words = stopwords.words('english')\n",
    "\n",
    "def remove_stopwords(text):\n",
    "    new_text = []\n",
    "    for word in text.split():\n",
    "        if word not in eng_words:\n",
    "            new_text.append(word)\n",
    "    return \" \".join(new_text)"
   ]
  },
  {
   "cell_type": "code",
   "execution_count": 32,
   "id": "e24b3b8e-2041-48d0-ba3b-4b443a4862d6",
   "metadata": {},
   "outputs": [],
   "source": [
    "df['review'] = df['review'].apply(remove_stopwords)"
   ]
  },
  {
   "cell_type": "code",
   "execution_count": 33,
   "id": "981b59d7-3364-435d-ae88-8e415a07a69a",
   "metadata": {},
   "outputs": [
    {
     "data": {
      "text/html": [
       "<div>\n",
       "<style scoped>\n",
       "    .dataframe tbody tr th:only-of-type {\n",
       "        vertical-align: middle;\n",
       "    }\n",
       "\n",
       "    .dataframe tbody tr th {\n",
       "        vertical-align: top;\n",
       "    }\n",
       "\n",
       "    .dataframe thead th {\n",
       "        text-align: right;\n",
       "    }\n",
       "</style>\n",
       "<table border=\"1\" class=\"dataframe\">\n",
       "  <thead>\n",
       "    <tr style=\"text-align: right;\">\n",
       "      <th></th>\n",
       "      <th>review</th>\n",
       "      <th>sentiment</th>\n",
       "    </tr>\n",
       "  </thead>\n",
       "  <tbody>\n",
       "    <tr>\n",
       "      <th>0</th>\n",
       "      <td>one reviewers mentioned watching episode hooke...</td>\n",
       "      <td>positive</td>\n",
       "    </tr>\n",
       "    <tr>\n",
       "      <th>1</th>\n",
       "      <td>wonderful little production filming technique ...</td>\n",
       "      <td>positive</td>\n",
       "    </tr>\n",
       "    <tr>\n",
       "      <th>2</th>\n",
       "      <td>thought wonderful way spend time hot summer we...</td>\n",
       "      <td>positive</td>\n",
       "    </tr>\n",
       "    <tr>\n",
       "      <th>3</th>\n",
       "      <td>basically family little boy jake thinks zombie...</td>\n",
       "      <td>negative</td>\n",
       "    </tr>\n",
       "    <tr>\n",
       "      <th>4</th>\n",
       "      <td>petter matters love time money visually stunni...</td>\n",
       "      <td>positive</td>\n",
       "    </tr>\n",
       "  </tbody>\n",
       "</table>\n",
       "</div>"
      ],
      "text/plain": [
       "                                              review sentiment\n",
       "0  one reviewers mentioned watching episode hooke...  positive\n",
       "1  wonderful little production filming technique ...  positive\n",
       "2  thought wonderful way spend time hot summer we...  positive\n",
       "3  basically family little boy jake thinks zombie...  negative\n",
       "4  petter matters love time money visually stunni...  positive"
      ]
     },
     "execution_count": 33,
     "metadata": {},
     "output_type": "execute_result"
    }
   ],
   "source": [
    "df.head()"
   ]
  },
  {
   "cell_type": "code",
   "execution_count": 34,
   "id": "ba5b8c7e-e25b-4308-85a9-8d134a1dcc9f",
   "metadata": {},
   "outputs": [
    {
     "data": {
      "text/plain": [
       "8"
      ]
     },
     "execution_count": 34,
     "metadata": {},
     "output_type": "execute_result"
    }
   ],
   "source": [
    "df.duplicated().sum()"
   ]
  },
  {
   "cell_type": "code",
   "execution_count": 67,
   "id": "968e0214-2101-4fae-88df-ae9cb7a83a34",
   "metadata": {},
   "outputs": [],
   "source": [
    "df.drop_duplicates(inplace=True,ignore_index=True)"
   ]
  },
  {
   "cell_type": "code",
   "execution_count": 73,
   "id": "39c1cd53-97d1-4804-9a82-7ba5566f0bbc",
   "metadata": {},
   "outputs": [
    {
     "data": {
      "text/plain": [
       "((49574, 1), (49574,))"
      ]
     },
     "execution_count": 73,
     "metadata": {},
     "output_type": "execute_result"
    }
   ],
   "source": [
    "# Data Split \n",
    "X = df.drop('sentiment',axis=1)\n",
    "y = df['sentiment']\n",
    "X.shape,y.shape"
   ]
  },
  {
   "cell_type": "code",
   "execution_count": 75,
   "id": "75e23ad7-225b-49c6-adc8-6e6f834668db",
   "metadata": {},
   "outputs": [],
   "source": [
    "# Encoding Sentiment column\n",
    "from sklearn.preprocessing import LabelEncoder\n",
    "encoder = LabelEncoder()\n",
    "y = encoder.fit_transform(y)"
   ]
  },
  {
   "cell_type": "code",
   "execution_count": 77,
   "id": "43dd7a3f-85b1-45a3-8108-ee0ee3904ca2",
   "metadata": {},
   "outputs": [
    {
     "data": {
      "text/plain": [
       "array([1, 1, 1, ..., 0, 0, 0])"
      ]
     },
     "execution_count": 77,
     "metadata": {},
     "output_type": "execute_result"
    }
   ],
   "source": [
    "y"
   ]
  },
  {
   "cell_type": "code",
   "execution_count": 79,
   "id": "1b92e088-4494-4348-86d4-524aff558019",
   "metadata": {},
   "outputs": [],
   "source": [
    "from sklearn.model_selection import train_test_split\n",
    "X_train,X_test,y_train,y_test = train_test_split(X,y,test_size=0.2,random_state=1)"
   ]
  },
  {
   "cell_type": "code",
   "execution_count": 81,
   "id": "9e29a8d2-5480-49d8-bf82-9da1b41422e5",
   "metadata": {},
   "outputs": [
    {
     "data": {
      "text/plain": [
       "((39659, 1), (9915, 1), (39659,), (9915,))"
      ]
     },
     "execution_count": 81,
     "metadata": {},
     "output_type": "execute_result"
    }
   ],
   "source": [
    "X_train.shape, X_test.shape, y_train.shape, y_test.shape"
   ]
  },
  {
   "cell_type": "code",
   "execution_count": 87,
   "id": "15518ac5-97de-4167-8337-5ceed54943c5",
   "metadata": {},
   "outputs": [],
   "source": [
    "# Applying BOW\n",
    "\n",
    "from sklearn.feature_extraction.text import CountVectorizer\n",
    "cv = CountVectorizer(max_features=10000, dtype=np.int32)"
   ]
  },
  {
   "cell_type": "code",
   "execution_count": 89,
   "id": "4d02ad3a-52cf-4646-a800-497101425cd1",
   "metadata": {},
   "outputs": [],
   "source": [
    "X_train_bow = cv.fit_transform(X_train['review']).toarray()\n",
    "X_test_bow = cv.transform(X_test['review']).toarray()"
   ]
  },
  {
   "cell_type": "code",
   "execution_count": 105,
   "id": "395ceb8a-d723-486c-b35f-eac0dd7e661c",
   "metadata": {},
   "outputs": [],
   "source": [
    "# Gaussian Naive Bayes\n",
    "from sklearn.naive_bayes import GaussianNB\n",
    "gnb = GaussianNB()\n",
    "gnb.fit(X_train_bow, y_train)\n",
    "y_pred = gnb.predict(X_test_bow)"
   ]
  },
  {
   "cell_type": "code",
   "execution_count": 107,
   "id": "d94544cd-a584-4a9c-ae66-3d8d9117363a",
   "metadata": {},
   "outputs": [
    {
     "data": {
      "text/plain": [
       "0.7225416036308623"
      ]
     },
     "execution_count": 107,
     "metadata": {},
     "output_type": "execute_result"
    }
   ],
   "source": [
    "from sklearn.metrics import accuracy_score, confusion_matrix\n",
    "accuracy_score(y_test,y_pred)"
   ]
  },
  {
   "cell_type": "code",
   "execution_count": 109,
   "id": "a6268742-ce9b-470e-9124-7ed4434c2ed1",
   "metadata": {},
   "outputs": [
    {
     "data": {
      "text/plain": [
       "array([[4290,  731],\n",
       "       [2020, 2874]], dtype=int64)"
      ]
     },
     "execution_count": 109,
     "metadata": {},
     "output_type": "execute_result"
    }
   ],
   "source": [
    "confusion_matrix(y_test,y_pred)"
   ]
  },
  {
   "cell_type": "code",
   "execution_count": 111,
   "id": "ff66adc2-bb04-4d3b-b9b2-7c80937cbb6f",
   "metadata": {},
   "outputs": [],
   "source": [
    "# Multinomial Naive Bayes\n",
    "from sklearn.naive_bayes import MultinomialNB\n",
    "mnb = MultinomialNB()\n",
    "mnb.fit(X_train_bow, y_train)\n",
    "y_pred = mnb.predict(X_test_bow)"
   ]
  },
  {
   "cell_type": "code",
   "execution_count": 113,
   "id": "da9ca8b7-b48b-4ae4-a6f8-e07b46984453",
   "metadata": {},
   "outputs": [
    {
     "data": {
      "text/plain": [
       "0.8473020675743822"
      ]
     },
     "execution_count": 113,
     "metadata": {},
     "output_type": "execute_result"
    }
   ],
   "source": [
    "from sklearn.metrics import accuracy_score, confusion_matrix\n",
    "accuracy_score(y_test,y_pred)"
   ]
  },
  {
   "cell_type": "code",
   "execution_count": 115,
   "id": "649631f2-2d6f-41da-9d77-7499d16470f2",
   "metadata": {},
   "outputs": [
    {
     "data": {
      "text/plain": [
       "array([[4301,  720],\n",
       "       [ 794, 4100]], dtype=int64)"
      ]
     },
     "execution_count": 115,
     "metadata": {},
     "output_type": "execute_result"
    }
   ],
   "source": [
    "confusion_matrix(y_test,y_pred)"
   ]
  },
  {
   "cell_type": "code",
   "execution_count": 119,
   "id": "a3f9e85d-4a01-4464-bd08-b5e6ed5397b6",
   "metadata": {},
   "outputs": [],
   "source": [
    "from sklearn.ensemble import RandomForestClassifier\n",
    "rf = RandomForestClassifier()\n",
    "rf.fit(X_train_bow,y_train)\n",
    "y_pred = rf.predict(X_test_bow)"
   ]
  },
  {
   "cell_type": "code",
   "execution_count": 121,
   "id": "61a22079-0085-499b-9c56-85ffd807e949",
   "metadata": {},
   "outputs": [
    {
     "data": {
      "text/plain": [
       "0.8467977811396873"
      ]
     },
     "execution_count": 121,
     "metadata": {},
     "output_type": "execute_result"
    }
   ],
   "source": [
    "accuracy_score(y_test,y_pred)"
   ]
  },
  {
   "cell_type": "code",
   "execution_count": 123,
   "id": "e1f011c7-863f-40ee-9d5a-d8e4210e1a24",
   "metadata": {},
   "outputs": [
    {
     "data": {
      "text/plain": [
       "0.7703479576399395"
      ]
     },
     "execution_count": 123,
     "metadata": {},
     "output_type": "execute_result"
    }
   ],
   "source": [
    "cv = CountVectorizer(ngram_range=(2,2), max_features=10000, dtype=np.int32)\n",
    "X_train_bow = cv.fit_transform(X_train['review']).toarray()\n",
    "X_test_bow = cv. transform(X_test['review']).toarray()\n",
    "rf = RandomForestClassifier()\n",
    "rf.fit(X_train_bow,y_train)\n",
    "y_pred = rf.predict(X_test_bow)\n",
    "accuracy_score (y_test,y_pred)"
   ]
  },
  {
   "cell_type": "code",
   "execution_count": 125,
   "id": "fb219d12-c1b8-4a41-b43c-0d1920aed2af",
   "metadata": {},
   "outputs": [
    {
     "data": {
      "text/plain": [
       "0.8523449319213313"
      ]
     },
     "execution_count": 125,
     "metadata": {},
     "output_type": "execute_result"
    }
   ],
   "source": [
    "from sklearn.feature_extraction.text import TfidfVectorizer\n",
    "tfidf = TfidfVectorizer()\n",
    "X_train_tfidf = tfidf.fit_transform(X_train['review'])\n",
    "X_test_tfidf = tfidf.transform(X_test['review'])\n",
    "rf = RandomForestClassifier()\n",
    "rf.fit(X_train_tfidf,y_train)\n",
    "y_pred = rf.predict(X_test_tfidf)\n",
    "accuracy_score (y_test,y_pred)"
   ]
  },
  {
   "cell_type": "code",
   "execution_count": 127,
   "id": "189e2472-41de-4515-bace-7dbf49b488aa",
   "metadata": {},
   "outputs": [
    {
     "data": {
      "text/plain": [
       "0        one reviewers mentioned watching episode hooke...\n",
       "1        wonderful little production filming technique ...\n",
       "2        thought wonderful way spend time hot summer we...\n",
       "3        basically family little boy jake thinks zombie...\n",
       "4        petter matters love time money visually stunni...\n",
       "                               ...                        \n",
       "49569    thought movie right good job creative original...\n",
       "49570    bad plot bad dialogue bad acting idiotic direc...\n",
       "49571    catholic taught parochial elementary schools n...\n",
       "49572    going disagree previous comment side martin on...\n",
       "49573    one expects star trek movies high art fans exp...\n",
       "Name: review, Length: 49574, dtype: object"
      ]
     },
     "execution_count": 127,
     "metadata": {},
     "output_type": "execute_result"
    }
   ],
   "source": [
    "df['review']"
   ]
  },
  {
   "cell_type": "markdown",
   "id": "af85f7d1-85f2-474f-95a5-6d6d3c005a0a",
   "metadata": {},
   "source": [
    "### Word2Vec"
   ]
  },
  {
   "cell_type": "code",
   "execution_count": 130,
   "id": "ff2be788-84ca-4497-8f06-fc99d842c7c3",
   "metadata": {},
   "outputs": [],
   "source": [
    "import gensim\n",
    "from nltk import sent_tokenize\n",
    "from gensim.utils import simple_preprocess"
   ]
  },
  {
   "cell_type": "code",
   "execution_count": 132,
   "id": "e038e276-1c11-4672-a710-6c8dc815286d",
   "metadata": {},
   "outputs": [],
   "source": [
    "story = []\n",
    "for doc in df['review']:\n",
    "    raw_sent = sent_tokenize(doc)\n",
    "    for sent in raw_sent:\n",
    "        story.append(simple_preprocess(sent))"
   ]
  },
  {
   "cell_type": "code",
   "execution_count": 136,
   "id": "d9398b32-7f3a-46c1-958c-b7cb000f50b6",
   "metadata": {},
   "outputs": [],
   "source": [
    "model = gensim.models.Word2Vec(window=10, min_count=2)"
   ]
  },
  {
   "cell_type": "code",
   "execution_count": 138,
   "id": "d4c10eb2-9be0-4c1c-b300-cfd3c73a8bd6",
   "metadata": {},
   "outputs": [],
   "source": [
    "model.build_vocab(story)"
   ]
  },
  {
   "cell_type": "code",
   "execution_count": 140,
   "id": "4ca555a5-bf85-41bb-9d71-12e074ab2570",
   "metadata": {},
   "outputs": [
    {
     "data": {
      "text/plain": [
       "(27097541, 28584085)"
      ]
     },
     "execution_count": 140,
     "metadata": {},
     "output_type": "execute_result"
    }
   ],
   "source": [
    "model.train(story, total_examples = model.corpus_count, epochs = model.epochs)"
   ]
  },
  {
   "cell_type": "code",
   "execution_count": 142,
   "id": "71ae72bb-c92c-486a-9210-007c868413e9",
   "metadata": {},
   "outputs": [
    {
     "data": {
      "text/plain": [
       "58505"
      ]
     },
     "execution_count": 142,
     "metadata": {},
     "output_type": "execute_result"
    }
   ],
   "source": [
    "len(model.wv.index_to_key)"
   ]
  },
  {
   "cell_type": "markdown",
   "id": "c8d02e62-d2b7-499f-88f7-5cea998acce9",
   "metadata": {},
   "source": [
    "- This function will convert the complete one review in a vector.\n",
    "- It cleans the review by removing unknown words, and then transforms it into a numerical vector using Word2Vec."
   ]
  },
  {
   "cell_type": "code",
   "execution_count": 144,
   "id": "53fa0bae-c4c3-4370-b7c2-0e3103a5ecd4",
   "metadata": {},
   "outputs": [],
   "source": [
    "def document_vector(doc):\n",
    "    # remove out of vocabulary(OOV) words\n",
    "    doc = [word for word in doc.split() if word in model.wv.index_to_key]\n",
    "    return np.mean(model.wv[doc], axis=0)"
   ]
  },
  {
   "cell_type": "code",
   "execution_count": 146,
   "id": "b16ccead-1711-4a19-9083-73d7860af27a",
   "metadata": {},
   "outputs": [
    {
     "data": {
      "text/plain": [
       "array([ 0.13694407,  0.08343274, -0.44252473, -0.14099126, -0.07745222,\n",
       "       -0.47882286,  0.17562672,  0.27700204, -0.59172475, -0.24912938,\n",
       "       -0.27153742, -0.06834146,  0.11708456,  0.30578095, -0.2892547 ,\n",
       "        0.28222   , -0.01265742, -0.6474312 ,  0.02174859, -0.32742035,\n",
       "        0.5101412 ,  0.00604932,  0.02261142, -0.00792247, -0.15755339,\n",
       "       -0.6270208 , -0.01086822, -0.01738214,  0.2613106 ,  0.1640283 ,\n",
       "        0.5304615 ,  0.19702414,  0.09024137, -0.18691696, -0.2371169 ,\n",
       "        0.26643583, -0.11341093,  0.3447266 , -0.2741125 , -0.35627583,\n",
       "       -0.03174928,  0.19921778, -0.2123628 , -0.40756434,  0.54207355,\n",
       "        0.15869334, -0.14259234,  0.06818452,  0.11339899,  0.1723564 ,\n",
       "        0.25039083,  0.03817187,  0.12728243,  0.13542451,  0.03201818,\n",
       "        0.14762685,  0.10281019, -0.42223668, -0.20523559,  0.15560575,\n",
       "        0.1991398 , -0.2351943 ,  0.28172916,  0.10382085, -0.0680049 ,\n",
       "        0.38243377,  0.09796777,  0.3800481 , -0.47453117,  0.42199042,\n",
       "       -0.11258354,  0.0127642 ,  0.33429915, -0.2514264 ,  0.0475615 ,\n",
       "       -0.10584699, -0.14719984,  0.06810867,  0.05768121, -0.1832706 ,\n",
       "       -0.69628257, -0.02850843, -0.22092165,  0.26734832,  0.39003786,\n",
       "        0.01488498,  0.23340222,  0.2315445 ,  0.27698696, -0.44944483,\n",
       "        0.19135498,  0.4122553 , -0.6057817 ,  0.14950994,  0.5038226 ,\n",
       "        0.06921948,  0.45837072,  0.09981545, -0.03919819, -0.30644765],\n",
       "      dtype=float32)"
      ]
     },
     "execution_count": 146,
     "metadata": {},
     "output_type": "execute_result"
    }
   ],
   "source": [
    "document_vector(df['review'].values[0])"
   ]
  },
  {
   "cell_type": "code",
   "execution_count": 148,
   "id": "0a366783-3f30-4cbb-8832-adfd5e9efe5b",
   "metadata": {},
   "outputs": [],
   "source": [
    "from tqdm import tqdm"
   ]
  },
  {
   "cell_type": "markdown",
   "id": "b8b78e53-af9f-4318-9d77-e65cc0a71bd6",
   "metadata": {},
   "source": [
    "- Iterates over all reviews.\n",
    "\n",
    "- Converts each review into a document vector.\n",
    "\n",
    "- Appends each vector to list X, building a matrix of review embeddings."
   ]
  },
  {
   "cell_type": "code",
   "execution_count": 152,
   "id": "613724ef-8496-4fc7-ac1a-9ac65a685617",
   "metadata": {},
   "outputs": [
    {
     "name": "stderr",
     "output_type": "stream",
     "text": [
      "100%|████████████████████████████████████████████████████████████████████████████| 49574/49574 [12:49<00:00, 64.42it/s]\n"
     ]
    }
   ],
   "source": [
    "X = []\n",
    "for doc in tqdm(df['review'].values):\n",
    "    X.append(document_vector(doc))"
   ]
  },
  {
   "cell_type": "code",
   "execution_count": 154,
   "id": "a66c4a82-c081-42e7-98eb-fc69d98b78e3",
   "metadata": {},
   "outputs": [
    {
     "data": {
      "text/plain": [
       "(49574, 100)"
      ]
     },
     "execution_count": 154,
     "metadata": {},
     "output_type": "execute_result"
    }
   ],
   "source": [
    "X = np.array(X)\n",
    "X.shape"
   ]
  },
  {
   "cell_type": "code",
   "execution_count": 156,
   "id": "8149979d-9a54-434e-9df4-6df35678f730",
   "metadata": {},
   "outputs": [],
   "source": [
    "X_train,X_test,y_train,y_test = train_test_split(X,y,test_size=0.2,random_state=1)\n"
   ]
  },
  {
   "cell_type": "code",
   "execution_count": 158,
   "id": "99c3c6eb-31ba-4e29-9362-b44dd202c567",
   "metadata": {},
   "outputs": [
    {
     "data": {
      "text/plain": [
       "0.8505295007564296"
      ]
     },
     "execution_count": 158,
     "metadata": {},
     "output_type": "execute_result"
    }
   ],
   "source": [
    "from sklearn.ensemble import RandomForestClassifier\n",
    "rf = RandomForestClassifier()\n",
    "rf.fit(X_train,y_train)\n",
    "y_pred = rf.predict(X_test)\n",
    "accuracy_score(y_test,y_pred)"
   ]
  },
  {
   "cell_type": "code",
   "execution_count": null,
   "id": "4fbce7c1-c7e9-4dea-80f7-f7c0e202d3c8",
   "metadata": {},
   "outputs": [],
   "source": []
  }
 ],
 "metadata": {
  "kernelspec": {
   "display_name": "Python [conda env:base] *",
   "language": "python",
   "name": "conda-base-py"
  },
  "language_info": {
   "codemirror_mode": {
    "name": "ipython",
    "version": 3
   },
   "file_extension": ".py",
   "mimetype": "text/x-python",
   "name": "python",
   "nbconvert_exporter": "python",
   "pygments_lexer": "ipython3",
   "version": "3.12.7"
  }
 },
 "nbformat": 4,
 "nbformat_minor": 5
}
